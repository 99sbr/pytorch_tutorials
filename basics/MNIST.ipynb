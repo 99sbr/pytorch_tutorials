{
 "cells": [
  {
   "cell_type": "code",
   "execution_count": 6,
   "metadata": {
    "ExecuteTime": {
     "end_time": "2020-05-07T13:37:15.614780Z",
     "start_time": "2020-05-07T13:37:15.610548Z"
    }
   },
   "outputs": [],
   "source": [
    "import torch\n",
    "import numpy as np\n",
    "import torch.nn as nn\n",
    "import torch.nn.functional as F\n",
    "import matplotlib.pyplot as plt\n",
    "from  torchvision import datasets , transforms"
   ]
  },
  {
   "cell_type": "code",
   "execution_count": 10,
   "metadata": {
    "ExecuteTime": {
     "end_time": "2020-05-07T13:40:14.522355Z",
     "start_time": "2020-05-07T13:40:14.465934Z"
    }
   },
   "outputs": [],
   "source": [
    "transform = transforms.Compose([\n",
    "    transforms.ToTensor(),\n",
    "     transforms.Normalize((0.5,), (0.5,))\n",
    "])\n",
    "training_dataset = datasets.MNIST(root='./data',\n",
    "                                  train=True,\n",
    "                                  download=True,\n",
    "                                  transform=transform)\n",
    "training_loader = torch.utils.data.DataLoader(dataset=training_dataset,\n",
    "                                              batch_size=32,\n",
    "                                              shuffle=True)\n",
    "\n",
    "validation_dataset = datasets.MNIST(root='./data',\n",
    "                                    train=False,\n",
    "                                    download=True,\n",
    "                                    transform=transform)\n",
    "validation_loader = torch.utils.data.DataLoader(dataset=validation_dataset,\n",
    "                                                batch_size=32,\n",
    "                                                shuffle=True)"
   ]
  },
  {
   "cell_type": "code",
   "execution_count": 11,
   "metadata": {
    "ExecuteTime": {
     "end_time": "2020-05-07T13:40:15.078013Z",
     "start_time": "2020-05-07T13:40:15.073063Z"
    }
   },
   "outputs": [],
   "source": [
    "def im_convert(tensor):\n",
    "    image = tensor.clone().detach().numpy()\n",
    "    image = image.transpose(1,2,0)\n",
    "    image = image * np.array((0.5,0.5,0.5)) + np.array((0.5,0.5,0.5))\n",
    "    image = image.clip(0,1)\n",
    "    return image"
   ]
  },
  {
   "cell_type": "code",
   "execution_count": 12,
   "metadata": {
    "ExecuteTime": {
     "end_time": "2020-05-07T13:40:16.739386Z",
     "start_time": "2020-05-07T13:40:15.965843Z"
    }
   },
   "outputs": [
    {
     "data": {
      "image/png": "[encoded data removed]",
      "text/plain": [
       "<Figure size 1800x288 with 20 Axes>"
      ]
     },
     "metadata": {},
     "output_type": "display_data"
    }
   ],
   "source": [
    "dataiter = iter(training_loader)\n",
    "images , labels = dataiter.next()\n",
    "fig = plt.figure(figsize=(25,4))\n",
    "\n",
    "for i in np.arange(20):\n",
    "    ax = fig.add_subplot(2,10,i+1,xticks=[],yticks=[])\n",
    "    plt.imshow(im_convert(images[i]))\n",
    "    ax.set_title(labels[i].item())"
   ]
  },
  {
   "cell_type": "code",
   "execution_count": 13,
   "metadata": {
    "ExecuteTime": {
     "end_time": "2020-05-07T13:40:23.768799Z",
     "start_time": "2020-05-07T13:40:23.762057Z"
    }
   },
   "outputs": [],
   "source": [
    "class Classifier(nn.Module):\n",
    "    \n",
    "    def __init__(self, D_in, H1, H2, D_out):\n",
    "        super(Classifier,self).__init__()\n",
    "        self.linear1 = nn.Linear(D_in, H1)\n",
    "        self.linear2 = nn.Linear(H1, H2)\n",
    "        self.linear3 = nn.Linear(H2, D_out)\n",
    "        \n",
    "    def forward(self, x):\n",
    "        x = torch.relu(self.linear1(x))\n",
    "        x = torch.relu(self.linear2(x))\n",
    "        x = self.linear3(x)\n",
    "        return x\n",
    "        "
   ]
  },
  {
   "cell_type": "code",
   "execution_count": 14,
   "metadata": {
    "ExecuteTime": {
     "end_time": "2020-05-07T13:40:27.583538Z",
     "start_time": "2020-05-07T13:40:27.574088Z"
    }
   },
   "outputs": [
    {
     "name": "stdout",
     "output_type": "stream",
     "text": [
      "Classifier(\n",
      "  (linear1): Linear(in_features=784, out_features=125, bias=True)\n",
      "  (linear2): Linear(in_features=125, out_features=65, bias=True)\n",
      "  (linear3): Linear(in_features=65, out_features=10, bias=True)\n",
      ")\n"
     ]
    }
   ],
   "source": [
    "torch.manual_seed(2)\n",
    "model = Classifier(28*28,125,65,10)\n",
    "print(model)"
   ]
  },
  {
   "cell_type": "code",
   "execution_count": 15,
   "metadata": {
    "ExecuteTime": {
     "end_time": "2020-05-07T13:40:36.587984Z",
     "start_time": "2020-05-07T13:40:36.583187Z"
    }
   },
   "outputs": [],
   "source": [
    "criterion = nn.CrossEntropyLoss()\n",
    "optimizer = torch.optim.Adam(model.parameters(), lr = 0.001)"
   ]
  },
  {
   "cell_type": "code",
   "execution_count": 16,
   "metadata": {
    "ExecuteTime": {
     "end_time": "2020-05-07T13:43:59.268843Z",
     "start_time": "2020-05-07T13:40:37.388406Z"
    }
   },
   "outputs": [
    {
     "name": "stdout",
     "output_type": "stream",
     "text": [
      "Training Loss: 0.3539 28.5627\n",
      "Validation Loss: 2.1199 29.8339\n",
      "Training Loss: 0.1688 30.3360\n",
      "Validation Loss: 1.0111 30.4824\n",
      "Training Loss: 0.1292 30.7285\n",
      "Validation Loss: 0.7742 30.9553\n",
      "Training Loss: 0.1071 30.9179\n",
      "Validation Loss: 0.6416 30.7540\n",
      "Training Loss: 0.0943 31.0432\n",
      "Validation Loss: 0.5652 30.7029\n",
      "Training Loss: 0.0824 31.1600\n",
      "Validation Loss: 0.4935 30.9297\n",
      "Training Loss: 0.0741 31.2267\n",
      "Validation Loss: 0.4436 31.0288\n",
      "Training Loss: 0.0684 31.2859\n",
      "Validation Loss: 0.4095 31.0575\n",
      "Training Loss: 0.0604 31.3733\n",
      "Validation Loss: 0.3620 30.8403\n",
      "Training Loss: 0.0575 31.3669\n",
      "Validation Loss: 0.3444 30.9169\n",
      "Training Loss: 0.0540 31.4320\n",
      "Validation Loss: 0.3234 30.9840\n",
      "Training Loss: 0.0489 31.4832\n",
      "Validation Loss: 0.2930 31.1086\n"
     ]
    }
   ],
   "source": [
    "epochs = 12\n",
    "running_loss_history = []\n",
    "running_correct_history = []\n",
    "\n",
    "val_running_loss_history = []\n",
    "val_running_correct_history = []\n",
    "for i in range(epochs):\n",
    "    running_loss = 0.0\n",
    "    running_corrects = 0.0\n",
    "    \n",
    "    val_running_loss = 0.0\n",
    "    val_running_corrects = 0.0\n",
    "    \n",
    "    for inputs, labels in training_loader:\n",
    "        inputs = inputs.view(inputs.shape[0], -1)\n",
    "        outputs = model(inputs)\n",
    "        loss = criterion(outputs, labels)\n",
    "\n",
    "        optimizer.zero_grad()\n",
    "        loss.backward()\n",
    "        optimizer.step()\n",
    "\n",
    "        _, preds = torch.max(outputs, 1)\n",
    "        running_corrects += torch.sum(preds == labels.data)\n",
    "        running_loss += loss.item()\n",
    "    else:\n",
    "        with torch.no_grad():\n",
    "            for val_inputs , val_labels in validation_loader:\n",
    "                val_inputs = val_inputs.view(val_inputs.shape[0], -1)\n",
    "                val_outputs = model(val_inputs)\n",
    "                val_loss = criterion(val_outputs, val_labels)\n",
    "                \n",
    "                _, val_preds = torch.max(val_outputs, 1)\n",
    "                val_running_corrects += torch.sum(val_preds == val_labels.data)\n",
    "                val_running_loss += val_loss.item()\n",
    "            \n",
    "        epoch_loss = running_loss / len(training_loader)\n",
    "        epoch_accuracy = running_corrects.float() / len(training_loader)\n",
    "        running_loss_history.append(epoch_loss)\n",
    "        running_correct_history.append(epoch_accuracy)\n",
    "        print('Training Loss: {:.4f} {:.4f}'.format(epoch_loss,\n",
    "                                                    epoch_accuracy.item()))\n",
    "        \n",
    "        val_epoch_loss = running_loss / len(validation_loader)\n",
    "        val_epoch_accuracy = val_running_corrects.float() / len(validation_loader)\n",
    "        val_running_loss_history.append(val_epoch_loss)\n",
    "        val_running_correct_history.append(val_epoch_accuracy)\n",
    "        print('Validation Loss: {:.4f} {:.4f}'.format(val_epoch_loss,\n",
    "                                                    val_epoch_accuracy.item()))"
   ]
  },
  {
   "cell_type": "code",
   "execution_count": 17,
   "metadata": {
    "ExecuteTime": {
     "end_time": "2020-05-07T13:43:59.597655Z",
     "start_time": "2020-05-07T13:43:59.439107Z"
    }
   },
   "outputs": [
    {
     "data": {
      "text/plain": [
       "[<matplotlib.lines.Line2D at 0x1307ce390>]"
      ]
     },
     "execution_count": 17,
     "metadata": {},
     "output_type": "execute_result"
    },
    {
     "data": {
      "image/png": "[encoded data removed]",
      "text/plain": [
       "<Figure size 432x288 with 1 Axes>"
      ]
     },
     "metadata": {
      "needs_background": "light"
     },
     "output_type": "display_data"
    }
   ],
   "source": [
    "plt.plot(running_loss_history, label='training loss')\n",
    "plt.plot(val_running_loss_history, label='validation loss')"
   ]
  },
  {
   "cell_type": "code",
   "execution_count": null,
   "metadata": {},
   "outputs": [],
   "source": []
  }
 ],
 "metadata": {
  "kernelspec": {
   "display_name": "Python 3.7.4 64-bit",
   "language": "python",
   "name": "python37464bitd354516f517147279a113529c8fe5e5f"
  },
  "language_info": {
   "codemirror_mode": {
    "name": "ipython",
    "version": 3
   },
   "file_extension": ".py",
   "mimetype": "text/x-python",
   "name": "python",
   "nbconvert_exporter": "python",
   "pygments_lexer": "ipython3",
   "version": "3.7.7"
  },
  "toc": {
   "base_numbering": 1,
   "nav_menu": {},
   "number_sections": true,
   "sideBar": true,
   "skip_h1_title": false,
   "title_cell": "Table of Contents",
   "title_sidebar": "Contents",
   "toc_cell": false,
   "toc_position": {},
   "toc_section_display": true,
   "toc_window_display": false
  },
  "varInspector": {
   "cols": {
    "lenName": 16,
    "lenType": 16,
    "lenVar": 40
   },
   "kernels_config": {
    "python": {
     "delete_cmd_postfix": "",
     "delete_cmd_prefix": "del ",
     "library": "var_list.py",
     "varRefreshCmd": "print(var_dic_list())"
    },
    "r": {
     "delete_cmd_postfix": ") ",
     "delete_cmd_prefix": "rm(",
     "library": "var_list.r",
     "varRefreshCmd": "cat(var_dic_list()) "
    }
   },
   "types_to_exclude": [
    "module",
    "function",
    "builtin_function_or_method",
    "instance",
    "_Feature"
   ],
   "window_display": false
  }
 },
 "nbformat": 4,
 "nbformat_minor": 2
}
