{
 "cells": [
  {
   "cell_type": "code",
   "execution_count": 1,
   "metadata": {},
   "outputs": [],
   "source": [
    "import torch\n",
    "import numpy as np"
   ]
  },
  {
   "cell_type": "code",
   "execution_count": 2,
   "metadata": {},
   "outputs": [
    {
     "name": "stdout",
     "output_type": "stream",
     "text": [
      "tensor([2, 3, 4, 5])\n"
     ]
    }
   ],
   "source": [
    "v = torch.tensor([1,2,3,4,5])\n",
    "print(v[1:])"
   ]har
  },
  {
   "cell_type": "code",
   "execution_count": 3,
   "metadata": {},
   "outputs": [],
   "source": [
    "f = torch.FloatTensor([1,2,3,4,5,6])"
   ]
  },
  {
   "cell_type": "code",
   "execution_count": 4,
   "metadata": {},
   "outputs": [
    {
     "data": {
      "text/plain": [
       "tensor([1., 2., 3., 4., 5., 6.])"
      ]
     },
     "execution_count": 4,
     "metadata": {},
     "output_type": "execute_result"
    }
   ],
   "source": [
    "f"
   ]
  },
  {
   "cell_type": "code",
   "execution_count": 5,
   "metadata": {},
   "outputs": [
    {
     "data": {
      "text/plain": [
       "tensor([[1., 2.],\n",
       "        [3., 4.],\n",
       "        [5., 6.]])"
      ]
     },
     "execution_count": 5,
     "metadata": {},
     "output_type": "execute_result"
    }
   ],
   "source": [
    "f.view(3,-1)"
   ]
  },
  {
   "cell_type": "code",
   "execution_count": 6,
   "metadata": {},
   "outputs": [],
   "source": [
    "torch_cnv = np.array([1,2,3,4,5,6])"
   ]
  },
  {
   "cell_type": "code",
   "execution_count": 7,
   "metadata": {},
   "outputs": [
    {
     "data": {
      "text/plain": [
       "tensor([1, 2, 3, 4, 5, 6])"
      ]
     },
     "execution_count": 7,
     "metadata": {},
     "output_type": "execute_result"
    }
   ],
   "source": [
    "torch.from_numpy(torch_cnv)"
   ]
  },
  {
   "cell_type": "code",
   "execution_count": 8,
   "metadata": {},
   "outputs": [],
   "source": [
    "import matplotlib.pyplot as plt"
   ]
  },
  {
   "cell_type": "code",
   "execution_count": 9,
   "metadata": {},
   "outputs": [
    {
     "data": {
      "text/plain": [
       "[<matplotlib.lines.Line2D at 0x11e47dd10>]"
      ]
     },
     "execution_count": 9,
     "metadata": {},
     "output_type": "execute_result"
    },
    {
     "data": {
      "image/png": "iVBORw0KGgoAAAANSUhEUgAAAYMAAAD4CAYAAAAO9oqkAAAABHNCSVQICAgIfAhkiAAAAAlwSFlzAAALEgAACxIB0t1+/AAAADh0RVh0U29mdHdhcmUAbWF0cGxvdGxpYiB2ZXJzaW9uMy4xLjEsIGh0dHA6Ly9tYXRwbG90bGliLm9yZy8QZhcZAAAdYklEQVR4nO3de3BU95nm8e+rlhAIgQRICHQBMYFgA75gbsJxUlkza0jGHtvjxHdBpbzjrRpnN7M1NbueqdryVrJTla3andlJbTa13oQNwnfHcexMPHawJ3ZqCkEQ2A7CTAwmtCwhhCyMxFW3fvePPsItLFkCqfv05flUqbr77dPnvEfG51Gfy++YuyMiIrktL+wGREQkfAoDERFRGIiIiMJARERQGIiICJAfdgNXqqyszGtra8NuQ0Qko+zdu/cjdy+/tJ6xYVBbW0tTU1PYbYiIZBQzi45U124iERFRGIiIiMJARERQGIiICAoDERFBYSAiIigMREQEhYGISMb4besp/tc/HeJM78Ckz1thICKSIX70z7/n/7x1BEvCvBUGIiIZoPN0L6/sb+euVdVML5z8wSMUBiIiGeDZPS30Dzr16xcmZf4KAxGRNDcwGOPJ3S18cUkZnysvTsoyFAYiImnu9YMdtHdfoL4uOd8KQGEgIpL2tu2MUlU6jQ1XVyRtGQoDEZE0dqjjNI1HunigbgGRvGScRxSnMBARSWPbd0WZEsnjntU1SV2OwkBEJE2dvtDPC3tbufXa+cwpLkzqshQGIiJp6sW32zjbN8jmG2uTviyFgYhIGnJ3GhqjXFtdwvU1pUlfnsJARCQNNX7QxeETZ5J6OmkihYGISBpqaIwyq6iA266rTMnyFAYiImnm2Knz7DjYwd1raphaEEnJMhUGIiJp5qndLcTceXBdanYRwTjCwMxqzOxXZvaemR0ws28F9dlmtsPMDgWPs4K6mdn3zOywmf3WzG5ImNeWYPpDZrYlob7KzPYHn/memSXvygoRkTTWOzDIM3ta2HDVXGpmF6VsueP5ZjAA/IW7LwPqgEfMbBnwKPCGuy8B3gheA3wFWBL8PAz8AOLhATwGrAPWAo8NBUgwzZ8mfG7TxFdNRCTzvNp8nI/O9FG/vjalyx0zDNy93d33Bc9PAweBKuB2YFsw2TbgjuD57UCDx+0CSs1sPrAR2OHuJ939Y2AHsCl4b6a773J3BxoS5iUiklO27TzKorLpfHFxWUqXe1nHDMysFlgJ7AYq3L09eOs4MDSCUhXwYcLHWoPaZ9VbR6iPtPyHzazJzJo6Ozsvp3URkbTX3NbNvpZTPFi3kLwkjkM0knGHgZkVAy8Af+7uPYnvBX/R+yT39inu/ri7r3b31eXl5clenIhISm1vjDKtIMLXVlWnfNnjCgMzKyAeBE+6+0+Dckewi4fg8URQbwMSR1SqDmqfVa8eoS4ikjNOnevjZ++0ccfKKkqmFaR8+eM5m8iAHwEH3f1vE956GRg6I2gL8FJCfXNwVlEd0B3sTnoNuMXMZgUHjm8BXgve6zGzumBZmxPmJSKSE55vaqV3IMbmJN3WcizjuavyF4B6YL+ZvRPU/hr4LvCcmT0ERIG7g/deAb4KHAbOAd8AcPeTZvYdYE8w3bfd/WTw/M+AHwPTgH8MfkREckIs5mzfFWVN7Syunj8zlB7GDAN3/2dgtCMZG0aY3oFHRpnXVmDrCPUmYMVYvYiIZKO33u+k5eQ5/nLj0tB60BXIIiIha2g8SvmMQjYunxdaDwoDEZEQRbvO8ub7ndy3dgFT8sPbJCsMRERC9MSuKBEzHli3INQ+FAYiIiE53zfIc02tbFw+j4qZU0PtRWEgIhKSl99to/t8P/UhnU6aSGEgIhKCodtaLq2YwbpFs8NuR2EgIhKGfS2nOHCsh/r1C0mHUfsVBiIiIWhoPMqMwnzuXDniuJwppzAQEUmxztO9vLK/nbtWVTO9cDwDQSSfwkBEJMWe3dNC/6CnxYHjIQoDEZEUGhiM8eTuFm5aXMbnyovDbucihYGISAq9frCD9u4LoY1OOhqFgYhICjU0RqkqncaGqyvGnjiFFAYiIilyqOM0Oz/o4oG6BURSfFvLsSgMRERSZPuuKFMiedyzumbsiVNMYSAikgKnL/Tzwt5Wbr12PnOKC8Nu51MUBiIiKfDi222c7Rtk8421YbcyIoWBiEiSDY1DdG11CdfXlIbdzogUBiIiSdb4QReHT5yhvi69TidNpDAQEUmyhsYos4oKuO26yrBbGZXCQEQkiY6dOs+Ogx3cvaaGqQWRsNsZlcJARCSJntrdQsydB9el7y4iUBiIiCRN78Agz+xpYcNVc6mZXRR2O59JYSAikiSvNh/nozN91K+vDbuVMSkMRESSZNvOo9TOKeKLi8vCbmVMCgMRkSRobutmX8sp6tfXkpdm4xCNRGEgIpIE2xujTCuI8LVV1WG3Mi4KAxGRSXbqXB8/e6eNO1ZWUjKtIOx2xkVhICIyyZ5vaqV3IEZ9XW3YrYybwkBEZBLFYs72XVHW1M5iWeXMsNsZN4WBiMgkeuv9TlpOnsuI00kTKQxERCZRQ+NRymcUsmn5vLBbuSwKAxGRSRLtOsub73dy39oFTMnPrM1rZnUrIpLGntgVJWLGA+sWhN3KZVMYiIhMgvN9gzzX1MrG5fOomDk17HYum8JARGQS/PzdY3Sf76d+fXqPTjqaMcPAzLaa2Qkza06o/RczazOzd4Kfrya891dmdtjMfmdmGxPqm4LaYTN7NKG+yMx2B/VnzWzKZK6giEiyuTvbGo+ytGIG6xbNDrudKzKebwY/BjaNUP87d78++HkFwMyWAfcCy4PP/G8zi5hZBPg+8BVgGXBfMC3AfwvmtRj4GHhoIiskIpJq+1pOceBYD/XrF2KW/uMQjWTMMHD3XwMnxzm/24Fn3L3X3X8PHAbWBj+H3f2Iu/cBzwC3W/y3djPwk+Dz24A7LnMdRERC1dB4lBmF+dy5sirsVq7YRI4ZfNPMfhvsRpoV1KqADxOmaQ1qo9XnAKfcfeCS+ojM7GEzazKzps7Ozgm0LiIyOTpP9/LK/nbuWlXN9ML8sNu5YlcaBj8APgdcD7QD/2PSOvoM7v64u69299Xl5eWpWKSIyGd6dk8L/YOesQeOh1xRjLl7x9BzM/u/wD8EL9uAmoRJq4Mao9S7gFIzyw++HSROLyKS1gYGYzy5u4WbFpfxufLisNuZkCv6ZmBm8xNe3gkMnWn0MnCvmRWa2SJgCfAbYA+wJDhzaArxg8wvu7sDvwK+Fnx+C/DSlfQkIpJqrx/soL37Apsz/FsBjOObgZk9DXwZKDOzVuAx4Mtmdj3gwFHg3wK4+wEzew54DxgAHnH3wWA+3wReAyLAVnc/ECziPwHPmNl/Bd4GfjRpaycikkQNjVGqSqex4eqKsFuZsDHDwN3vG6E86gbb3f8G+JsR6q8Ar4xQP0L8bCMRkYxxqOM0Oz/o4i83LiWSAbe1HIuuQBYRuQLbd0WZEsnj3jU1Y0+cARQGIiKX6fSFfl7Y28qt185nTnFh2O1MCoWBiMhlevHtNs72DWb86aSJFAYiIpfB3WlojHJtdQnX15SG3c6kURiIiFyGxiNdHD5xhvq6zB2HaCQKAxGRy9CwM0ppUQG3XVcZdiuTSmEgIjJO7d3n2XGwg3vW1DC1IBJ2O5NKYSAiMk5P7W4h5s6D67LnwPEQhYGIyDj0Dgzy9G9auHnpXGpmF4XdzqRTGIiIjMOrzcf56Ewfm2+sDbuVpFAYiIiMQ0NjlNo5RXxxcVnYrSSFwkBEZAzNbd3sjX5M/fpa8rJgHKKRKAxERMawvTHKtIIIX1tVHXYrSaMwEBH5DKfO9fGzd9q4Y2UlJdMKwm4naRQGIiKf4fmmVnoHYtTX1YbdSlIpDERERhGLOdt3RVlTO4tllTPDbiepFAYiIqN46/1OWk6eo359bditJJ3CQERkFA2NRymfUcim5fPCbiXpFAYiIiOIdp3lzfc7uW/tAqbkZ/+mMvvXUETkCjyxK0qeGfevXRB2KymhMBARucT5vkGea2pl0/J5zCuZGnY7KaEwEBG5xM/fPUb3+f6suq3lWBQGIiIJ3J1tjUf5fEUx6xbNDrudlFEYiIgk2NdyigPHeti8vjarbms5FoWBiEiC7Y1HmVGYz50rq8JuJaUUBiIigc7Tvfxifzt3rapmemF+2O2klMJARCTw7J4W+gedB+ty58DxEIWBiAgwMBjjyd0t3LS4jMVzi8NuJ+UUBiIiwOsHO2jvvpBTp5MmUhiIiBC/rWVV6TQ2XDU37FZCoTAQkZx3qOM0Oz/o4v51C8iP5OZmMTfXWkQkwfZdUaZE8rh3TU3YrYRGYSAiOe30hX5e2NvKrdfOZ05xYdjthEZhICI57cW32zjbN5izB46HKAxEJGe5Ow2NUa6tLuH6mtKw2wmVwkBEclbjkS4OnzhDfd3CnBqHaCRjhoGZbTWzE2bWnFCbbWY7zOxQ8DgrqJuZfc/MDpvZb83shoTPbAmmP2RmWxLqq8xsf/CZ71mu/xcRkZRp2BmltKiA266rDLuV0I3nm8GPgU2X1B4F3nD3JcAbwWuArwBLgp+HgR9APDyAx4B1wFrgsaEACab504TPXbosEZFJ1959nh0HO7hnTQ1TCyJhtxO6McPA3X8NnLykfDuwLXi+Dbgjod7gcbuAUjObD2wEdrj7SXf/GNgBbArem+nuu9zdgYaEeYmIJM1Tu1uIufPgutw+cDzkSo8ZVLh7e/D8OFARPK8CPkyYrjWofVa9dYT6iMzsYTNrMrOmzs7OK2xdRHJd78AgT/+mhZuXzqVmdlHY7aSFCR9ADv6i90noZTzLetzdV7v76vLy8lQsUkSy0KvNx/noTB+bb6wNu5W0caVh0BHs4iF4PBHU24DES/iqg9pn1atHqIuIJE1DY5TaOUV8cXFZ2K2kjSsNg5eBoTOCtgAvJdQ3B2cV1QHdwe6k14BbzGxWcOD4FuC14L0eM6sLziLanDAvEZFJ19zWzd7oxzxYt5C8PJ28OGTMW/mY2dPAl4EyM2slflbQd4HnzOwhIArcHUz+CvBV4DBwDvgGgLufNLPvAHuC6b7t7kMHpf+M+BlL04B/DH5ERJJie2OUaQURvr4qd8chGsmYYeDu943y1oYRpnXgkVHmsxXYOkK9CVgxVh8iIhN16lwfL73bxp0rqygpKgi7nbSiK5BFJGc839TKhf4Y9XW1YbeSdhQGIpITYjHnid1R1tTOYlnlzLDbSTsKAxHJCW8d6iTadY769bVht5KWFAYikhMadh6lrLiQTcvnhd1KWlIYiEjWi3ad5c33O7l/3QKm5GuzNxL9VkQk6z2xK0qeGfevXRB2K2lLYSAiWe183yDPNbWycXkF80qmht1O2lIYiEhW+/m7x+g+389mHTj+TAoDEcla7s62xqN8vqKYdYtmh91OWlMYiEjW2tdyigPHeti8vjbnb2s5FoWBiGSt7Y1HmVGYz50rR71NigQUBiKSlTpP9/KL/e3ctaqa6YVjDsOW8xQGIpKVnt3TQv+g82Cdbms5HgoDEck6A4Mxntzdwk2Ly1g8tzjsdjKCwkBEss7rBzto775A/Xp9KxgvhYGIZJ2GxihVpdPYcNXcsFvJGAoDEckqh0+cZucHXdy/bgH5EW3ixku/KRHJKg2NUaZE8rh3jW5reTkUBiKSNc70DvDTfW3ceu185hQXht1ORlEYiEjWeHFfK2d6B3Tg+AooDEQkK8THIYpyTVUJ19eUht1OxlEYiEhWaDzSxeETZ9i8fqHGIboCCgMRyQoNO6OUFhVw23WVYbeSkRQGIpLx2rvPs+NgB/esrmFqQSTsdjKSwkBEMt5Tu1uIucYhmgiFgYhktN6BQZ7+TQs3L51LzeyisNvJWAoDEclorzYf56MzfTqddIIUBiKS0Roao9TOKeJLS8rDbiWjKQxEJGM1t3WzN/oxD9YtJC9Pp5NOhMJARDLW9sYo0woifH2VxiGaKIWBiGSkU+f6eOndNu5YWUlJUUHY7WQ8hYGIZKTnm1q50B+jvq427FaygsJARDJOLOY8sTvKmtpZLKucGXY7WUFhICIZ561DnUS7zlG/vjbsVrKGwkBEMk7DzqOUFReyafm8sFvJGgoDEckoLV3nePP9Tu5ft4Ap+dqETZYJ/SbN7KiZ7Tezd8ysKajNNrMdZnYoeJwV1M3Mvmdmh83st2Z2Q8J8tgTTHzKzLRNbJRHJZk/sjpJnxv1rF4TdSlaZjFj9V+5+vbuvDl4/Crzh7kuAN4LXAF8BlgQ/DwM/gHh4AI8B64C1wGNDASIikuh83yDP7vmQjcsrmFcyNex2skoyvmPdDmwLnm8D7kioN3jcLqDUzOYDG4Ed7n7S3T8GdgCbktCXiGS4n797jO7z/WzWgeNJN9EwcOCXZrbXzB4OahXu3h48Pw5UBM+rgA8TPtsa1Earf4qZPWxmTWbW1NnZOcHWRSSTxG9reZTPVxSzbtHssNvJOhMNg5vc/Qbiu4AeMbMvJb7p7k48MCaFuz/u7qvdfXV5uQalEskl+1pOceBYD/Xra3VbyySYUBi4e1vweAJ4kfg+/45g9w/B44lg8jYgcQCR6qA2Wl1E5KLtjUeZUZjPn6wccceBTNAVh4GZTTezGUPPgVuAZuBlYOiMoC3AS8Hzl4HNwVlFdUB3sDvpNeAWM5sVHDi+JaiJiADQebqXX+xv565V1UwvzA+7naw0kd9qBfBi8HUtH3jK3V81sz3Ac2b2EBAF7g6mfwX4KnAYOAd8A8DdT5rZd4A9wXTfdveTE+hLRLLMs3ta6B/UbS2T6YrDwN2PANeNUO8CNoxQd+CRUea1Fdh6pb2ISPYaGIzx5O4WblpcxuK5xWG3k7V0+Z6IpLXXD3bQ3n1Bt7VMMoWBiKS1hsYolSVT2XDV3LBbyWoKAxFJW4dPnGbnB108ULeQ/Ig2V8mk366IpK2GxihTInncu0a3tUw2hYGIpKUzvQP8dF8bf3TtfOYUF4bdTtZTGIhIWnpxXytnegfYrAPHKaEwEJG0Ex+HKMo1VSVcX1Madjs5QWEgImmn8UgXh0+cYfP6hRqHKEUUBiKSdrY3RiktKuC26yrDbiVnKAxEJK20d5/nl+91cM/qGqYWRMJuJ2coDEQkrTy1u4WYaxyiVFMYiEja6B0Y5OnftHDz0rnUzC4Ku52cojAQkbTxavNxPjrTp3GIQqAwEJG00dAYpXZOEV9aojsZpprCQETSQnNbN3ujH/Ng3ULy8nQ6aaopDEQkLWxvjDK1II+vr9I4RGFQGIhI6E6d6+Old9u4c2UVJUUFYbeTkxQGIhK655taudAfo76uNuxWcpbCQERCFYs5T+yOsnrhLJZVzgy7nZylMBCRUL11qJNo1zk231gbdis5TWEgIqFq2HmUsuJCNi2fF3YrOU1hICKhaek6x5vvd3L/2hqm5GtzFKb8sBsQkdwQizm/7zpLc1s3B4710NzWTXNbN3lm3L9OVxyHTWEgIpNuYDDGB53xDX/zsW4OtPVw4Fg3Z/sGAZgSyeOq+TO49bpKNi2fx7ySqSF3LAoDEZmQvoEY73ecvrjhb27r4WB7D70DMQCmFURYVjmTr62qZnlVCSsqS1hSUUxBRLuF0onCQETG7UL/IAfbe2g+1sOBYOP/u+On6R90AGYU5rOscib1dQtZUVXCiqqZLCorJqLhJdKewkBERnSmd4CD7T3sb/1kV8/hzjMMxuIb/tKiAq6pKuGhm/6AFVUzWVFZwoLZRRpXKEMpDESE7nP9HDj2yW6e5mPd/P6js3h8u09ZcSHXVM1k4/KK+K6eqhIqS6bq/sRZRGEgkmO6zvTSHJzNc+BYN/vbuvnw5PmL71eVTmN55UzuuL7q4l/8c2fqAG+2UxiIZCl3p6Ond9iB3QPHumnvvnBxmoVziri2qpT71i7gmqoSlleWMHv6lBC7lrAoDESygLvT+vH5+K6eYDdPc1sPH53pBcAMPldezLpFs1kRbPSXVc6kZJpGCJU4hYFIhonFnKNdZ4ed0dPc1kP3+X4AInnGkrnFfHlpOSsqZ7KiqoSr589keqH+d5fR6V+HSBobGIxx5KPg4q3gL/73jvVwpncA+OTira9eM//i/v2l82YwtSAScueSaRQGImmibyDGoROnh234D7b3cKE/fvHW1II8ls2fyZ/cUMWKyhKWV81kydwZGtNHJoXCQCQEF/oH+Zfjpy+e0dPc1sPvjp+mbzC+4S8OLt56YN3Ci3/x/0G5Lt6S5FEYiCTZ2eDirfhZPfHHQyeGX7y1orKEb9xUy4rK+Dn8C3XxlqRY2oSBmW0C/h6IAD909++G3JLIMLGYM+jOwKAzEIsxGHMGYv7JY1A/3nOBAxfP6OnmyLCLt6awoqqEP7y64uJwDVWl03TxloQuLcLAzCLA94F/DbQCe8zsZXd/L9zOZCSxYRvBWLBx/OT1sI3kYPyxf6g+OPJ0/YMjbVxjw17HPzu8ljiv/sHEeixhWaP1esn8Lt3IX7JewR/y41ZZMpXlVSX88XXBxVtVJcydUagNv6SltAgDYC1w2N2PAJjZM8DtwKSHwb/ZtoejXeeA+LnZQ4b9f+6fro02bUIZT3hnWH2UjciE5jnK9Ixr+nEsN+FFzBm2kRxtfVKlIGJE8oz8vLzg0T55jMTrF2sRI5Lwekp+HtOCafMjecM/OzRd5JN5FkRGWMYl8790eaVFU1heOZOy4sJwf1EilyFdwqAK+DDhdSuw7tKJzOxh4GGABQsWXNGCFs6ZTmF+wml3NuLTi3+9Da999rSX1ofPO2GaUeczjulHWcCE5jls+k//1ZpnlrABDjaGw15/snEdXsu7ZCMdbDg/9dnhnxu2AY4Mny7PRu5RRCYmXcJgXNz9ceBxgNWrV1/R36f/+dZlk9qTiEg2SJcTlNuAmoTX1UFNRERSIF3CYA+wxMwWmdkU4F7g5ZB7EhHJGWmxm8jdB8zsm8BrxE8t3eruB0JuS0QkZ6RFGAC4+yvAK2H3ISKSi9JlN5GIiIRIYSAiIgoDERFRGIiICGAe9tgCV8jMOoHoFX68DPhoEtvJBFrn3JBr65xr6wsTX+eF7l5+aTFjw2AizKzJ3VeH3UcqaZ1zQ66tc66tLyRvnbWbSEREFAYiIpK7YfB42A2EQOucG3JtnXNtfSFJ65yTxwxERGS4XP1mICIiCRQGIiKSW2FgZpvM7HdmdtjMHg27n2Qzsxoz+5WZvWdmB8zsW2H3lCpmFjGzt83sH8LuJRXMrNTMfmJm/2JmB81sfdg9JZuZ/Yfg33WzmT1tZlPD7mmymdlWMzthZs0JtdlmtsPMDgWPsyZjWTkTBmYWAb4PfAVYBtxnZtl+27MB4C/cfRlQBzySA+s85FvAwbCbSKG/B15196uA68jydTezKuDfA6vdfQXxoe/vDberpPgxsOmS2qPAG+6+BHgjeD1hORMGwFrgsLsfcfc+4Bng9pB7Sip3b3f3fcHz08Q3EFXhdpV8ZlYN/BHww7B7SQUzKwG+BPwIwN373P1UuF2lRD4wzczygSLgWMj9TDp3/zVw8pLy7cC24Pk24I7JWFYuhUEV8GHC61ZyYMM4xMxqgZXA7nA7SYn/CfxHIBZ2IymyCOgE/l+wa+yHZjY97KaSyd3bgP8OtADtQLe7/zLcrlKmwt3bg+fHgYrJmGkuhUHOMrNi4AXgz929J+x+ksnMbgVOuPvesHtJoXzgBuAH7r4SOMsk7TpIV8F+8tuJB2ElMN3MHgy3q9Tz+LUBk3J9QC6FQRtQk/C6OqhlNTMrIB4ET7r7T8PuJwW+APyxmR0lvivwZjN7ItyWkq4VaHX3oW99PyEeDtnsD4Hfu3unu/cDPwVuDLmnVOkws/kAweOJyZhpLoXBHmCJmS0ysynEDza9HHJPSWVmRnw/8kF3/9uw+0kFd/8rd69291ri/43/yd2z+i9Gdz8OfGhmS4PSBuC9EFtKhRagzsyKgn/nG8jyg+YJXga2BM+3AC9NxkzT5h7IyebuA2b2TeA14mcebHX3AyG3lWxfAOqB/Wb2TlD76+B+05Jd/h3wZPCHzhHgGyH3k1TuvtvMfgLsI37W3Ntk4dAUZvY08GWgzMxagceA7wLPmdlDxIfxv3tSlqXhKEREJJd2E4mIyCgUBiIiojAQERGFgYiIoDAQEREUBiIigsJARESA/w/JPM8twfvDLAAAAABJRU5ErkJggg==\n",
      "text/plain": [
       "<Figure size 432x288 with 1 Axes>"
      ]
     },
     "metadata": {
      "needs_background": "light"
     },
     "output_type": "display_data"
    }
   ],
   "source": [
    "x = torch.linspace(0, 10, 5)\n",
    "y = torch.exp(x)\n",
    "plt.plot(x.numpy(),y.numpy())"
   ]
  },
  {
   "cell_type": "code",
   "execution_count": 10,
   "metadata": {},
   "outputs": [
    {
     "data": {
      "text/plain": [
       "tensor([0, 1, 2, 3, 4, 5, 6, 7, 8])"
      ]
     },
     "execution_count": 10,
     "metadata": {},
     "output_type": "execute_result"
    }
   ],
   "source": [
    "one_d = torch.arange(0,9)\n",
    "one_d"
   ]
  },
  {
   "cell_type": "code",
   "execution_count": 11,
   "metadata": {},
   "outputs": [
    {
     "data": {
      "text/plain": [
       "tensor([[0, 1, 2],\n",
       "        [3, 4, 5],\n",
       "        [6, 7, 8]])"
      ]
     },
     "execution_count": 11,
     "metadata": {},
     "output_type": "execute_result"
    }
   ],
   "source": [
    "two_d = one_d.view(3,3)\n",
    "two_d"
   ]
  },
  {
   "cell_type": "code",
   "execution_count": 12,
   "metadata": {},
   "outputs": [
    {
     "data": {
      "text/plain": [
       "2"
      ]
     },
     "execution_count": 12,
     "metadata": {},
     "output_type": "execute_result"
    }
   ],
   "source": [
    "two_d.dim()"
   ]
  },
  {
   "cell_type": "code",
   "execution_count": 16,
   "metadata": {},
   "outputs": [
    {
     "data": {
      "text/plain": [
       "tensor(330.)"
      ]
     },
     "execution_count": 16,
     "metadata": {},
     "output_type": "execute_result"
    }
   ],
   "source": [
    "x = torch.tensor(2.0, requires_grad=True)\n",
    "y = 9*x**4 + 2*x**3 + 3*x**2 + 6*x + 1\n",
    "y.backward()\n",
    "x.grad"
   ]
  },
  {
   "cell_type": "code",
   "execution_count": null,
   "metadata": {},
   "outputs": [],
   "source": []
  }
 ],
 "metadata": {
  "kernelspec": {
   "display_name": "Python 3",
   "language": "python",
   "name": "python3"
  },
  "language_info": {
   "codemirror_mode": {
    "name": "ipython",
    "version": 3
   },
   "file_extension": ".py",
   "mimetype": "text/x-python",
   "name": "python",
   "nbconvert_exporter": "python",
   "pygments_lexer": "ipython3",
   "version": "3.7.4"
  }
 },
 "nbformat": 4,
 "nbformat_minor": 2
}
