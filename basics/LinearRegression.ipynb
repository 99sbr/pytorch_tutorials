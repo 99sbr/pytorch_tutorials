{
 "cells": [
  {
   "cell_type": "code",
   "execution_count": 1,
   "metadata": {},
   "outputs": [],
   "source": [
    "import torch\n",
    "import torch.nn as nn\n",
    "import numpy as np\n",
    "from torch.nn import Linear\n",
    "import matplotlib.pyplot as plt\n"
   ]
  },
  {
   "cell_type": "code",
   "execution_count": 2,
   "metadata": {},
   "outputs": [
    {
     "data": {
      "text/plain": [
       "Text(0, 0.5, 'y')"
      ]
     },
     "execution_count": 2,
     "metadata": {},
     "output_type": "execute_result"
    },
    {
     "data": {
      "image/png": "[encoded data removed]",
      "text/plain": [
       "<Figure size 432x288 with 1 Axes>"
      ]
     },
     "metadata": {
      "needs_background": "light"
     },
     "output_type": "display_data"
    }
   ],
   "source": [
    "X = torch.randn(100,1)*10\n",
    "y = X + 2*torch.randn(100,1)\n",
    "plt.plot(X.numpy(), y.numpy(),'o')\n",
    "plt.xlabel('X')\n",
    "plt.ylabel('y')"
   ]
  },
  {
   "cell_type": "code",
   "execution_count": 3,
   "metadata": {},
   "outputs": [],
   "source": [
    "class LR(nn.Module):\n",
    "    def __init__(self, input_size, output_size):\n",
    "        super().__init__()\n",
    "        self.linear = nn.Linear(input_size, output_size)\n",
    "        \n",
    "    def forward(self, x):\n",
    "        pred = self.linear(x)\n",
    "        return pred"
   ]
  },
  {
   "cell_type": "code",
   "execution_count": 4,
   "metadata": {},
   "outputs": [
    {
     "name": "stdout",
     "output_type": "stream",
     "text": [
      "[Parameter containing:\n",
      "tensor([[0.5153]], requires_grad=True), Parameter containing:\n",
      "tensor([-0.4414], requires_grad=True)]\n"
     ]
    }
   ],
   "source": [
    "torch.manual_seed(1)\n",
    "model = LR(1,1)\n",
    "print(list(model.parameters()))"
   ]
  },
  {
   "cell_type": "code",
   "execution_count": 5,
   "metadata": {},
   "outputs": [],
   "source": [
    "[w,b] = model.parameters()\n",
    "def get_params():\n",
    "    return (w[0][0].item(),b[0].item())"
   ]
  },
  {
   "cell_type": "code",
   "execution_count": 6,
   "metadata": {},
   "outputs": [],
   "source": [
    "def plot_fit(title):\n",
    "    plt.title(title)\n",
    "    w1,b1 = get_params()\n",
    "    x1 = np.array([-30,30])\n",
    "    y1 = w1*x1+b1\n",
    "    plt.plot(x1,y1,'r')\n",
    "    plt.scatter(X,y)\n",
    "    plt.show()"
   ]
  },
  {
   "cell_type": "code",
   "execution_count": 7,
   "metadata": {},
   "outputs": [
    {
     "data": {
      "image/png": "[encoded data removed]",
      "text/plain": [
       "<Figure size 432x288 with 1 Axes>"
      ]
     },
     "metadata": {
      "needs_background": "light"
     },
     "output_type": "display_data"
    }
   ],
   "source": [
    "plot_fit('initial_model')"
   ]
  },
  {
   "cell_type": "code",
   "execution_count": 8,
   "metadata": {},
   "outputs": [],
   "source": [
    "criterion = nn.MSELoss()\n",
    "optimizer = torch.optim.SGD(model.parameters(), lr = 0.01)"
   ]
  },
  {
   "cell_type": "code",
   "execution_count": 9,
   "metadata": {
    "scrolled": true
   },
   "outputs": [
    {
     "name": "stdout",
     "output_type": "stream",
     "text": [
      "Epoch: 0 Loss: 22.055477142333984\n",
      "Epoch: 1 Loss: 14.432424545288086\n",
      "Epoch: 2 Loss: 10.046392440795898\n",
      "Epoch: 3 Loss: 7.521266460418701\n",
      "Epoch: 4 Loss: 6.066009044647217\n",
      "Epoch: 5 Loss: 5.225895404815674\n",
      "Epoch: 6 Loss: 4.739529132843018\n",
      "Epoch: 7 Loss: 4.456644058227539\n",
      "Epoch: 8 Loss: 4.290855884552002\n",
      "Epoch: 9 Loss: 4.192503929138184\n",
      "Epoch: 10 Loss: 4.133037090301514\n",
      "Epoch: 11 Loss: 4.096037864685059\n",
      "Epoch: 12 Loss: 4.072064399719238\n",
      "Epoch: 13 Loss: 4.0556840896606445\n",
      "Epoch: 14 Loss: 4.043771743774414\n",
      "Epoch: 15 Loss: 4.034525394439697\n",
      "Epoch: 16 Loss: 4.026905059814453\n",
      "Epoch: 17 Loss: 4.02031135559082\n",
      "Epoch: 18 Loss: 4.0143938064575195\n",
      "Epoch: 19 Loss: 4.00894832611084\n",
      "Epoch: 20 Loss: 4.003855228424072\n",
      "Epoch: 21 Loss: 3.9990408420562744\n",
      "Epoch: 22 Loss: 3.9944615364074707\n",
      "Epoch: 23 Loss: 3.9900879859924316\n",
      "Epoch: 24 Loss: 3.9859018325805664\n",
      "Epoch: 25 Loss: 3.98188853263855\n",
      "Epoch: 26 Loss: 3.9780378341674805\n",
      "Epoch: 27 Loss: 3.9743411540985107\n",
      "Epoch: 28 Loss: 3.9707913398742676\n",
      "Epoch: 29 Loss: 3.967381715774536\n",
      "Epoch: 30 Loss: 3.964106798171997\n",
      "Epoch: 31 Loss: 3.960960865020752\n",
      "Epoch: 32 Loss: 3.9579386711120605\n",
      "Epoch: 33 Loss: 3.9550349712371826\n",
      "Epoch: 34 Loss: 3.9522454738616943\n",
      "Epoch: 35 Loss: 3.949565887451172\n",
      "Epoch: 36 Loss: 3.946991443634033\n",
      "Epoch: 37 Loss: 3.9445178508758545\n",
      "Epoch: 38 Loss: 3.942141532897949\n",
      "Epoch: 39 Loss: 3.939858913421631\n",
      "Epoch: 40 Loss: 3.9376654624938965\n",
      "Epoch: 41 Loss: 3.935558557510376\n",
      "Epoch: 42 Loss: 3.9335341453552246\n",
      "Epoch: 43 Loss: 3.931588888168335\n",
      "Epoch: 44 Loss: 3.929720878601074\n",
      "Epoch: 45 Loss: 3.9279258251190186\n",
      "Epoch: 46 Loss: 3.926201105117798\n",
      "Epoch: 47 Loss: 3.9245445728302\n",
      "Epoch: 48 Loss: 3.922952890396118\n",
      "Epoch: 49 Loss: 3.9214234352111816\n",
      "Epoch: 50 Loss: 3.919954538345337\n",
      "Epoch: 51 Loss: 3.9185431003570557\n",
      "Epoch: 52 Loss: 3.917186737060547\n",
      "Epoch: 53 Loss: 3.915884256362915\n",
      "Epoch: 54 Loss: 3.91463303565979\n",
      "Epoch: 55 Loss: 3.9134304523468018\n",
      "Epoch: 56 Loss: 3.9122753143310547\n",
      "Epoch: 57 Loss: 3.911165475845337\n",
      "Epoch: 58 Loss: 3.9100992679595947\n",
      "Epoch: 59 Loss: 3.9090747833251953\n",
      "Epoch: 60 Loss: 3.908090591430664\n",
      "Epoch: 61 Loss: 3.9071452617645264\n",
      "Epoch: 62 Loss: 3.9062368869781494\n",
      "Epoch: 63 Loss: 3.9053640365600586\n",
      "Epoch: 64 Loss: 3.9045259952545166\n",
      "Epoch: 65 Loss: 3.9037203788757324\n",
      "Epoch: 66 Loss: 3.902946710586548\n",
      "Epoch: 67 Loss: 3.902203321456909\n",
      "Epoch: 68 Loss: 3.901488780975342\n",
      "Epoch: 69 Loss: 3.9008028507232666\n",
      "Epoch: 70 Loss: 3.900143623352051\n",
      "Epoch: 71 Loss: 3.899510383605957\n",
      "Epoch: 72 Loss: 3.8989014625549316\n",
      "Epoch: 73 Loss: 3.898317337036133\n",
      "Epoch: 74 Loss: 3.8977553844451904\n",
      "Epoch: 75 Loss: 3.8972160816192627\n",
      "Epoch: 76 Loss: 3.896697759628296\n",
      "Epoch: 77 Loss: 3.896199941635132\n",
      "Epoch: 78 Loss: 3.895721435546875\n",
      "Epoch: 79 Loss: 3.895261764526367\n",
      "Epoch: 80 Loss: 3.894820213317871\n",
      "Epoch: 81 Loss: 3.8943958282470703\n",
      "Epoch: 82 Loss: 3.8939881324768066\n",
      "Epoch: 83 Loss: 3.893596649169922\n",
      "Epoch: 84 Loss: 3.8932206630706787\n",
      "Epoch: 85 Loss: 3.8928592205047607\n",
      "Epoch: 86 Loss: 3.892512083053589\n",
      "Epoch: 87 Loss: 3.8921782970428467\n",
      "Epoch: 88 Loss: 3.891857862472534\n",
      "Epoch: 89 Loss: 3.891550064086914\n",
      "Epoch: 90 Loss: 3.891254425048828\n",
      "Epoch: 91 Loss: 3.890970230102539\n",
      "Epoch: 92 Loss: 3.8906970024108887\n",
      "Epoch: 93 Loss: 3.890434741973877\n",
      "Epoch: 94 Loss: 3.8901827335357666\n",
      "Epoch: 95 Loss: 3.8899407386779785\n",
      "Epoch: 96 Loss: 3.8897080421447754\n",
      "Epoch: 97 Loss: 3.8894846439361572\n",
      "Epoch: 98 Loss: 3.8892698287963867\n",
      "Epoch: 99 Loss: 3.889063835144043\n"
     ]
    }
   ],
   "source": [
    "epochs = 100\n",
    "losses = []\n",
    "for i in range(epochs):\n",
    "    y_pred = model.forward(X)\n",
    "    loss = criterion(y_pred, y )\n",
    "    print('Epoch:',i,'Loss:',loss.item())\n",
    "    \n",
    "    losses.append(loss)\n",
    "    optimizer.zero_grad()\n",
    "    loss.backward()\n",
    "    optimizer.step()"
   ]
  },
  {
   "cell_type": "code",
   "execution_count": 10,
   "metadata": {},
   "outputs": [
    {
     "data": {
      "image/png": "[encoded data removed]",
      "text/plain": [
       "<Figure size 432x288 with 1 Axes>"
      ]
     },
     "metadata": {
      "needs_background": "light"
     },
     "output_type": "display_data"
    }
   ],
   "source": [
    "plot_fit('trained_model')"
   ]
  },
  {
   "cell_type": "code",
   "execution_count": null,
   "metadata": {},
   "outputs": [],
   "source": []
  }
 ],
 "metadata": {
  "kernelspec": {
   "display_name": "Python 3",
   "language": "python",
   "name": "python3"
  },
  "language_info": {
   "codemirror_mode": {
    "name": "ipython",
    "version": 3
   },
   "file_extension": ".py",
   "mimetype": "text/x-python",
   "name": "python",
   "nbconvert_exporter": "python",
   "pygments_lexer": "ipython3",
   "version": "3.7.4"
  }
 },
 "nbformat": 4,
 "nbformat_minor": 2
}
