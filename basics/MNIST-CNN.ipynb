{
 "cells": [
  {
   "cell_type": "code",
   "execution_count": 22,
   "metadata": {
    "ExecuteTime": {
     "end_time": "2020-05-08T07:11:49.568504Z",
     "start_time": "2020-05-08T07:11:49.563867Z"
    }
   },
   "outputs": [],
   "source": [
    "import torch\n",
    "import numpy as np\n",
    "import torch.nn as nn\n",
    "import torch.nn.functional as F\n",
    "import matplotlib.pyplot as plt\n",
    "from  torchvision import datasets , transforms"
   ]
  },
  {
   "cell_type": "code",
   "execution_count": 23,
   "metadata": {
    "ExecuteTime": {
     "end_time": "2020-05-08T07:11:50.378222Z",
     "start_time": "2020-05-08T07:11:50.318717Z"
    }
   },
   "outputs": [],
   "source": [
    "transform = transforms.Compose([\n",
    "    transforms.ToTensor(),\n",
    "     transforms.Normalize((0.5,), (0.5,))\n",
    "])\n",
    "training_dataset = datasets.MNIST(root='./data',\n",
    "                                  train=True,\n",
    "                                  download=True,\n",
    "                                  transform=transform)\n",
    "training_loader = torch.utils.data.DataLoader(dataset=training_dataset,\n",
    "                                              batch_size=32,\n",
    "                                              shuffle=True)\n",
    "\n",
    "validation_dataset = datasets.MNIST(root='./data',\n",
    "                                    train=False,\n",
    "                                    download=True,\n",
    "                                    transform=transform)\n",
    "validation_loader = torch.utils.data.DataLoader(dataset=validation_dataset,\n",
    "                                                batch_size=32,\n",
    "                                                shuffle=True)"
   ]
  },
  {
   "cell_type": "code",
   "execution_count": 24,
   "metadata": {
    "ExecuteTime": {
     "end_time": "2020-05-08T07:11:50.972822Z",
     "start_time": "2020-05-08T07:11:50.967899Z"
    }
   },
   "outputs": [],
   "source": [
    "def im_convert(tensor):\n",
    "    image = tensor.clone().detach().numpy()\n",
    "    image = image.transpose(1,2,0)\n",
    "    image = image * np.array((0.5,0.5,0.5)) + np.array((0.5,0.5,0.5))\n",
    "    image = image.clip(0,1)\n",
    "    return image"
   ]
  },
  {
   "cell_type": "raw",
   "metadata": {
    "ExecuteTime": {
     "end_time": "2020-05-08T04:45:42.196601Z",
     "start_time": "2020-05-08T04:45:41.404413Z"
    }
   },
   "source": [
    "dataiter = iter(training_loader)\n",
    "images , labels = dataiter.next()\n",
    "imgage = images.to('cpu')\n",
    "labels = labels.to('cpu')\n",
    "fig = plt.figure(figsize=(25,4))\n",
    "\n",
    "for i in np.arange(20):\n",
    "    ax = fig.add_subplot(2,10,i+1,xticks=[],yticks=[])\n",
    "    plt.imshow(im_convert(images[i]))\n",
    "    ax.set_title(labels[i].item())"
   ]
  },
  {
   "cell_type": "code",
   "execution_count": 29,
   "metadata": {
    "ExecuteTime": {
     "end_time": "2020-05-08T07:14:02.563624Z",
     "start_time": "2020-05-08T07:14:02.554440Z"
    }
   },
   "outputs": [],
   "source": [
    "class LeNet(nn.Module):\n",
    "    def __init__(self):\n",
    "        super(LeNet, self).__init__()\n",
    "        self.conv1 = nn.Conv2d(in_channels=1,\n",
    "                               out_channels=20,\n",
    "                               kernel_size=5,\n",
    "                               stride=1)\n",
    "        self.conv2 = nn.Conv2d(in_channels=20,\n",
    "                               out_channels=50,\n",
    "                               kernel_size=5,\n",
    "                               stride=1)\n",
    "        self.fc1 = nn.Linear(4 * 4 * 50, 500)\n",
    "        self.fc2 = nn.Linear(500, 10)\n",
    "\n",
    "    def forward(self, x):\n",
    "        x = F.relu(self.conv1(x))\n",
    "        x = F.max_pool2d(x, 2, 2)\n",
    "\n",
    "        x = F.relu(self.conv2(x))\n",
    "        x = F.max_pool2d(x, 2, 2)\n",
    "        x = x.view(-1, 4 * 4 * 50)\n",
    "        \n",
    "        x = F.relu(self.fc1(x))\n",
    "        x = self.fc2(x)\n",
    "        return x"
   ]
  },
  {
   "cell_type": "code",
   "execution_count": 30,
   "metadata": {
    "ExecuteTime": {
     "end_time": "2020-05-08T07:14:03.027498Z",
     "start_time": "2020-05-08T07:14:03.017562Z"
    }
   },
   "outputs": [
    {
     "name": "stdout",
     "output_type": "stream",
     "text": [
      "LeNet(\n",
      "  (conv1): Conv2d(1, 20, kernel_size=(5, 5), stride=(1, 1))\n",
      "  (conv2): Conv2d(20, 50, kernel_size=(5, 5), stride=(1, 1))\n",
      "  (fc1): Linear(in_features=800, out_features=500, bias=True)\n",
      "  (fc2): Linear(in_features=500, out_features=10, bias=True)\n",
      ")\n"
     ]
    }
   ],
   "source": [
    "torch.manual_seed(2)\n",
    "model = LeNet().to('cpu')\n",
    "print(model)"
   ]
  },
  {
   "cell_type": "code",
   "execution_count": 31,
   "metadata": {
    "ExecuteTime": {
     "end_time": "2020-05-08T07:14:03.886868Z",
     "start_time": "2020-05-08T07:14:03.881785Z"
    }
   },
   "outputs": [],
   "source": [
    "criterion = nn.CrossEntropyLoss()\n",
    "optimizer = torch.optim.Adam(model.parameters(), lr = 0.0001)"
   ]
  },
  {
   "cell_type": "code",
   "execution_count": 36,
   "metadata": {
    "ExecuteTime": {
     "end_time": "2020-05-08T08:53:47.958900Z",
     "start_time": "2020-05-08T08:35:33.558288Z"
    }
   },
   "outputs": [
    {
     "name": "stdout",
     "output_type": "stream",
     "text": [
      "Training Loss: 0.0099 31.9029\n",
      "Validation Loss: 0.0593 31.6773\n",
      "Training Loss: 0.0082 31.9221\n",
      "Validation Loss: 0.0491 31.6901\n",
      "Training Loss: 0.0074 31.9264\n",
      "Validation Loss: 0.0443 31.6581\n",
      "Training Loss: 0.0054 31.9552\n",
      "Validation Loss: 0.0321 31.6198\n",
      "Training Loss: 0.0060 31.9397\n",
      "Validation Loss: 0.0361 31.6869\n",
      "Training Loss: 0.0049 31.9552\n",
      "Validation Loss: 0.0295 31.6933\n",
      "Training Loss: 0.0043 31.9627\n",
      "Validation Loss: 0.0257 31.6709\n",
      "Training Loss: 0.0042 31.9589\n",
      "Validation Loss: 0.0254 31.6805\n",
      "Training Loss: 0.0032 31.9701\n",
      "Validation Loss: 0.0193 31.6901\n",
      "Training Loss: 0.0036 31.9632\n",
      "Validation Loss: 0.0213 31.6933\n",
      "Training Loss: 0.0027 31.9749\n",
      "Validation Loss: 0.0163 31.6741\n",
      "Training Loss: 0.0032 31.9680\n",
      "Validation Loss: 0.0192 31.6677\n",
      "Training Loss: 0.0020 31.9803\n",
      "Validation Loss: 0.0118 31.6677\n",
      "Training Loss: 0.0023 31.9771\n",
      "Validation Loss: 0.0139 31.7157\n",
      "Training Loss: 0.0016 31.9845\n",
      "Validation Loss: 0.0096 31.6741\n",
      "Training Loss: 0.0019 31.9819\n",
      "Validation Loss: 0.0115 31.6709\n",
      "Training Loss: 0.0024 31.9765\n",
      "Validation Loss: 0.0146 31.6965\n",
      "Training Loss: 0.0020 31.9803\n",
      "Validation Loss: 0.0117 31.6709\n",
      "Training Loss: 0.0013 31.9861\n",
      "Validation Loss: 0.0078 31.5879\n",
      "Training Loss: 0.0025 31.9781\n",
      "Validation Loss: 0.0151 31.6965\n"
     ]
    }
   ],
   "source": [
    "epochs = 20\n",
    "running_loss_history = []\n",
    "running_correct_history = []\n",
    "\n",
    "val_running_loss_history = []\n",
    "val_running_correct_history = []\n",
    "for i in range(epochs):\n",
    "    running_loss = 0.0\n",
    "    running_corrects = 0.0\n",
    "    \n",
    "    val_running_loss = 0.0\n",
    "    val_running_corrects = 0.0\n",
    "    \n",
    "    for inputs, labels in training_loader:\n",
    "        inputs = inputs.to('cpu')\n",
    "        labels = labels.to('cpu')\n",
    "        outputs = model(inputs)\n",
    "        loss = criterion(outputs, labels)\n",
    "\n",
    "        optimizer.zero_grad()\n",
    "        loss.backward()\n",
    "        optimizer.step()\n",
    "\n",
    "        _, preds = torch.max(outputs, 1)\n",
    "        running_corrects += torch.sum(preds == labels.data)\n",
    "        running_loss += loss.item()\n",
    "    else:\n",
    "        with torch.no_grad():\n",
    "            for val_inputs , val_labels in validation_loader:\n",
    "                val_inputs = val_inputs.to('cpu')\n",
    "                val_labels = val_labels.to('cpu')\n",
    "#                 val_inputs = val_inputs.view(val_inputs.shape[0], -1)\n",
    "                val_outputs = model(val_inputs)\n",
    "                val_loss = criterion(val_outputs, val_labels)\n",
    "                \n",
    "                _, val_preds = torch.max(val_outputs, 1)\n",
    "                val_running_corrects += torch.sum(val_preds == val_labels.data)\n",
    "                val_running_loss += val_loss.item()\n",
    "            \n",
    "        epoch_loss = running_loss / len(training_loader)\n",
    "        epoch_accuracy = running_corrects.float() / len(training_loader)\n",
    "        running_loss_history.append(epoch_loss)\n",
    "        running_correct_history.append(epoch_accuracy)\n",
    "        print('Training Loss: {:.4f} {:.4f}'.format(epoch_loss,\n",
    "                                                    epoch_accuracy.item()))\n",
    "        \n",
    "        val_epoch_loss = running_loss / len(validation_loader)\n",
    "        val_epoch_accuracy = val_running_corrects.float() / len(validation_loader)\n",
    "        val_running_loss_history.append(val_epoch_loss)\n",
    "        val_running_correct_history.append(val_epoch_accuracy)\n",
    "        print('Validation Loss: {:.4f} {:.4f}'.format(val_epoch_loss,\n",
    "                                                    val_epoch_accuracy.item()))"
   ]
  },
  {
   "cell_type": "code",
   "execution_count": 37,
   "metadata": {
    "ExecuteTime": {
     "end_time": "2020-05-08T08:53:48.245995Z",
     "start_time": "2020-05-08T08:53:48.058416Z"
    }
   },
   "outputs": [
    {
     "data": {
      "text/plain": [
       "[<matplotlib.lines.Line2D at 0x136207310>]"
      ]
     },
     "execution_count": 37,
     "metadata": {},
     "output_type": "execute_result"
    },
    {
     "data": {
      "image/png": "[encoded data removed]",
      "text/plain": [
       "<Figure size 432x288 with 1 Axes>"
      ]
     },
     "metadata": {
      "needs_background": "light"
     },
     "output_type": "display_data"
    }
   ],
   "source": [
    "plt.plot(running_loss_history, label='training loss')\n",
    "plt.plot(val_running_loss_history, label='validation loss')"
   ]
  },
  {
   "cell_type": "code",
   "execution_count": 38,
   "metadata": {
    "ExecuteTime": {
     "end_time": "2020-05-08T08:53:48.569192Z",
     "start_time": "2020-05-08T08:53:48.361394Z"
    }
   },
   "outputs": [
    {
     "data": {
      "text/plain": [
       "[<matplotlib.lines.Line2D at 0x136166d50>]"
      ]
     },
     "execution_count": 38,
     "metadata": {},
     "output_type": "execute_result"
    },
    {
     "data": {
      "image/png": "[encoded data removed]",
      "text/plain": [
       "<Figure size 432x288 with 1 Axes>"
      ]
     },
     "metadata": {
      "needs_background": "light"
     },
     "output_type": "display_data"
    }
   ],
   "source": [
    "plt.plot(running_correct_history, label='training accuracy')\n",
    "plt.plot(val_running_correct_history, label='validation accuracy')"
   ]
  },
  {
   "cell_type": "code",
   "execution_count": null,
   "metadata": {},
   "outputs": [],
   "source": []
  }
 ],
 "metadata": {
  "kernelspec": {
   "display_name": "Python 3.7.4 64-bit",
   "language": "python",
   "name": "python37464bitd354516f517147279a113529c8fe5e5f"
  },
  "language_info": {
   "codemirror_mode": {
    "name": "ipython",
    "version": 3
   },
   "file_extension": ".py",
   "mimetype": "text/x-python",
   "name": "python",
   "nbconvert_exporter": "python",
   "pygments_lexer": "ipython3",
   "version": "3.7.7"
  },
  "toc": {
   "base_numbering": 1,
   "nav_menu": {},
   "number_sections": true,
   "sideBar": true,
   "skip_h1_title": false,
   "title_cell": "Table of Contents",
   "title_sidebar": "Contents",
   "toc_cell": false,
   "toc_position": {},
   "toc_section_display": true,
   "toc_window_display": false
  },
  "varInspector": {
   "cols": {
    "lenName": 16,
    "lenType": 16,
    "lenVar": 40
   },
   "kernels_config": {
    "python": {
     "delete_cmd_postfix": "",
     "delete_cmd_prefix": "del ",
     "library": "var_list.py",
     "varRefreshCmd": "print(var_dic_list())"
    },
    "r": {
     "delete_cmd_postfix": ") ",
     "delete_cmd_prefix": "rm(",
     "library": "var_list.r",
     "varRefreshCmd": "cat(var_dic_list()) "
    }
   },
   "types_to_exclude": [
    "module",
    "function",
    "builtin_function_or_method",
    "instance",
    "_Feature"
   ],
   "window_display": false
  }
 },
 "nbformat": 4,
 "nbformat_minor": 2
}
