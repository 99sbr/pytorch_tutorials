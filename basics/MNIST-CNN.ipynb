{
 "cells": [
  {
   "cell_type": "code",
   "execution_count": 22,
   "metadata": {
    "ExecuteTime": {
     "end_time": "2020-05-08T07:11:49.568504Z",
     "start_time": "2020-05-08T07:11:49.563867Z"
    }
   },
   "outputs": [],
   "source": [
    "import torch\n",
    "import numpy as np\n",
    "import torch.nn as nn\n",
    "import torch.nn.functional as F\n",
    "import matplotlib.pyplot as plt\n",
    "from  torchvision import datasets , transforms"
   ]
  },
  {
   "cell_type": "code",
   "execution_count": 23,
   "metadata": {
    "ExecuteTime": {
     "end_time": "2020-05-08T07:11:50.378222Z",
     "start_time": "2020-05-08T07:11:50.318717Z"
    }
   },
   "outputs": [],
   "source": [
    "transform = transforms.Compose([\n",
    "    transforms.ToTensor(),\n",
    "     transforms.Normalize((0.5,), (0.5,))\n",
    "])\n",
    "training_dataset = datasets.MNIST(root='./data',\n",
    "                                  train=True,\n",
    "                                  download=True,\n",
    "                                  transform=transform)\n",
    "training_loader = torch.utils.data.DataLoader(dataset=training_dataset,\n",
    "                                              batch_size=32,\n",
    "                                              shuffle=True)\n",
    "\n",
    "validation_dataset = datasets.MNIST(root='./data',\n",
    "                                    train=False,\n",
    "                                    download=True,\n",
    "                                    transform=transform)\n",
    "validation_loader = torch.utils.data.DataLoader(dataset=validation_dataset,\n",
    "                                                batch_size=32,\n",
    "                                                shuffle=False)"
   ]
  },
  {
   "cell_type": "code",
   "execution_count": 24,
   "metadata": {
    "ExecuteTime": {
     "end_time": "2020-05-08T07:11:50.972822Z",
     "start_time": "2020-05-08T07:11:50.967899Z"
    }
   },
   "outputs": [],
   "source": [
    "def im_convert(tensor):\n",
    "    image = tensor.clone().detach().numpy()\n",
    "    image = image.transpose(1,2,0)\n",
    "    image = image * np.array((0.5,0.5,0.5)) + np.array((0.5,0.5,0.5))\n",
    "    image = image.clip(0,1)\n",
    "    return image"
   ]
  },
  {
   "cell_type": "code",
   "execution_count": 50,
   "metadata": {
    "ExecuteTime": {
     "end_time": "2020-05-08T10:30:32.600851Z",
     "start_time": "2020-05-08T10:30:31.347425Z"
    }
   },
   "outputs": [
    {
     "data": {
      "image/png": "[encoded data removed]",
      "text/plain": [
       "<Figure size 1800x288 with 20 Axes>"
      ]
     },
     "metadata": {},
     "output_type": "display_data"
    }
   ],
   "source": [
    "dataiter = iter(training_loader)\n",
    "images , labels = dataiter.next()\n",
    "imgage = images.to('cpu')\n",
    "labels = labels.to('cpu')\n",
    "fig = plt.figure(figsize=(25,4))\n",
    "\n",
    "for i in np.arange(20):\n",
    "    ax = fig.add_subplot(2,10,i+1,xticks=[],yticks=[])\n",
    "    plt.imshow(im_convert(images[i]))\n",
    "    ax.set_title(labels[i].item())"
   ]
  },
  {
   "cell_type": "code",
   "execution_count": 44,
   "metadata": {
    "ExecuteTime": {
     "end_time": "2020-05-08T09:06:18.558777Z",
     "start_time": "2020-05-08T09:06:18.548636Z"
    }
   },
   "outputs": [],
   "source": [
    "class LeNet(nn.Module):\n",
    "    def __init__(self):\n",
    "        super(LeNet, self).__init__()\n",
    "        self.conv1 = nn.Conv2d(in_channels=1,\n",
    "                               out_channels=20,\n",
    "                               kernel_size=5,\n",
    "                               stride=1)\n",
    "        self.conv2 = nn.Conv2d(in_channels=20,\n",
    "                               out_channels=50,\n",
    "                               kernel_size=5,\n",
    "                               stride=1)\n",
    "        self.fc1 = nn.Linear(4 * 4 * 50, 500)\n",
    "        self.dropout = nn.Dropout(0.5)\n",
    "        self.fc2 = nn.Linear(500, 10)\n",
    "\n",
    "    def forward(self, x):\n",
    "        x = F.relu(self.conv1(x))\n",
    "        x = F.max_pool2d(x, 2, 2)\n",
    "\n",
    "        x = F.relu(self.conv2(x))\n",
    "        x = F.max_pool2d(x, 2, 2)\n",
    "        x = x.view(-1, 4 * 4 * 50)\n",
    "        \n",
    "        x = F.relu(self.fc1(x))\n",
    "        x = self.dropout(x)\n",
    "        x = self.fc2(x)\n",
    "        return x"
   ]
  },
  {
   "cell_type": "code",
   "execution_count": 45,
   "metadata": {
    "ExecuteTime": {
     "end_time": "2020-05-08T09:06:19.009485Z",
     "start_time": "2020-05-08T09:06:18.999478Z"
    }
   },
   "outputs": [
    {
     "name": "stdout",
     "output_type": "stream",
     "text": [
      "LeNet(\n",
      "  (conv1): Conv2d(1, 20, kernel_size=(5, 5), stride=(1, 1))\n",
      "  (conv2): Conv2d(20, 50, kernel_size=(5, 5), stride=(1, 1))\n",
      "  (fc1): Linear(in_features=800, out_features=500, bias=True)\n",
      "  (dropout): Dropout(p=0.5, inplace=False)\n",
      "  (fc2): Linear(in_features=500, out_features=10, bias=True)\n",
      ")\n"
     ]
    }
   ],
   "source": [
    "torch.manual_seed(2)\n",
    "model = LeNet().to('cpu')\n",
    "print(model)"
   ]
  },
  {
   "cell_type": "code",
   "execution_count": 46,
   "metadata": {
    "ExecuteTime": {
     "end_time": "2020-05-08T09:06:20.125207Z",
     "start_time": "2020-05-08T09:06:20.120244Z"
    }
   },
   "outputs": [],
   "source": [
    "criterion = nn.CrossEntropyLoss()\n",
    "optimizer = torch.optim.Adam(model.parameters(), lr = 0.0001)"
   ]
  },
  {
   "cell_type": "code",
   "execution_count": 47,
   "metadata": {
    "ExecuteTime": {
     "end_time": "2020-05-08T09:26:06.625739Z",
     "start_time": "2020-05-08T09:06:20.844718Z"
    }
   },
   "outputs": [
    {
     "name": "stdout",
     "output_type": "stream",
     "text": [
      "Training Loss: 0.3578 28.7285\n",
      "Validation Loss: 2.1436 30.8946\n",
      "Training Loss: 0.0983 31.0469\n",
      "Validation Loss: 0.5888 31.2843\n",
      "Training Loss: 0.0694 31.3435\n",
      "Validation Loss: 0.4157 31.4185\n",
      "Training Loss: 0.0547 31.4597\n",
      "Validation Loss: 0.3279 31.4952\n",
      "Training Loss: 0.0466 31.5595\n",
      "Validation Loss: 0.2792 31.4856\n",
      "Training Loss: 0.0389 31.6229\n",
      "Validation Loss: 0.2331 31.4856\n",
      "Training Loss: 0.0341 31.6629\n",
      "Validation Loss: 0.2043 31.5048\n",
      "Training Loss: 0.0308 31.6965\n",
      "Validation Loss: 0.1845 31.6230\n",
      "Training Loss: 0.0275 31.7243\n",
      "Validation Loss: 0.1645 31.6422\n",
      "Training Loss: 0.0246 31.7563\n",
      "Validation Loss: 0.1474 31.6294\n",
      "Training Loss: 0.0210 31.7819\n",
      "Validation Loss: 0.1257 31.6038\n",
      "Training Loss: 0.0197 31.7941\n",
      "Validation Loss: 0.1181 31.6230\n",
      "Training Loss: 0.0183 31.8155\n",
      "Validation Loss: 0.1098 31.6230\n",
      "Training Loss: 0.0169 31.8315\n",
      "Validation Loss: 0.1015 31.6326\n",
      "Training Loss: 0.0145 31.8512\n",
      "Validation Loss: 0.0871 31.6773\n",
      "Training Loss: 0.0137 31.8581\n",
      "Validation Loss: 0.0821 31.6390\n",
      "Training Loss: 0.0130 31.8635\n",
      "Validation Loss: 0.0778 31.6486\n",
      "Training Loss: 0.0117 31.8752\n",
      "Validation Loss: 0.0699 31.6326\n",
      "Training Loss: 0.0105 31.8928\n",
      "Validation Loss: 0.0632 31.6773\n",
      "Training Loss: 0.0104 31.8976\n",
      "Validation Loss: 0.0624 31.6518\n"
     ]
    }
   ],
   "source": [
    "epochs = 20\n",
    "running_loss_history = []\n",
    "running_correct_history = []\n",
    "\n",
    "val_running_loss_history = []\n",
    "val_running_correct_history = []\n",
    "for i in range(epochs):\n",
    "    running_loss = 0.0\n",
    "    running_corrects = 0.0\n",
    "    \n",
    "    val_running_loss = 0.0\n",
    "    val_running_corrects = 0.0\n",
    "    \n",
    "    for inputs, labels in training_loader:\n",
    "        inputs = inputs.to('cpu')\n",
    "        labels = labels.to('cpu')\n",
    "        outputs = model(inputs)\n",
    "        loss = criterion(outputs, labels)\n",
    "\n",
    "        optimizer.zero_grad()\n",
    "        loss.backward()\n",
    "        optimizer.step()\n",
    "\n",
    "        _, preds = torch.max(outputs, 1)\n",
    "        running_corrects += torch.sum(preds == labels.data)\n",
    "        running_loss += loss.item()\n",
    "    else:\n",
    "        with torch.no_grad():\n",
    "            for val_inputs , val_labels in validation_loader:\n",
    "                val_inputs = val_inputs.to('cpu')\n",
    "                val_labels = val_labels.to('cpu')\n",
    "#                 val_inputs = val_inputs.view(val_inputs.shape[0], -1)\n",
    "                val_outputs = model(val_inputs)\n",
    "                val_loss = criterion(val_outputs, val_labels)\n",
    "                \n",
    "                _, val_preds = torch.max(val_outputs, 1)\n",
    "                val_running_corrects += torch.sum(val_preds == val_labels.data)\n",
    "                val_running_loss += val_loss.item()\n",
    "            \n",
    "        epoch_loss = running_loss / len(training_loader)\n",
    "        epoch_accuracy = running_corrects.float() / len(training_loader)\n",
    "        running_loss_history.append(epoch_loss)\n",
    "        running_correct_history.append(epoch_accuracy)\n",
    "        print('Training Loss: {:.4f} {:.4f}'.format(epoch_loss,\n",
    "                                                    epoch_accuracy.item()))\n",
    "        \n",
    "        val_epoch_loss = running_loss / len(validation_loader)\n",
    "        val_epoch_accuracy = val_running_corrects.float() / len(validation_loader)\n",
    "        val_running_loss_history.append(val_epoch_loss)\n",
    "        val_running_correct_history.append(val_epoch_accuracy)\n",
    "        print('Validation Loss: {:.4f} {:.4f}'.format(val_epoch_loss,\n",
    "                                                    val_epoch_accuracy.item()))"
   ]
  },
  {
   "cell_type": "code",
   "execution_count": 48,
   "metadata": {
    "ExecuteTime": {
     "end_time": "2020-05-08T09:26:06.936229Z",
     "start_time": "2020-05-08T09:26:06.732135Z"
    }
   },
   "outputs": [
    {
     "data": {
      "text/plain": [
       "[<matplotlib.lines.Line2D at 0x135ee8ed0>]"
      ]
     },
     "execution_count": 48,
     "metadata": {},
     "output_type": "execute_result"
    },
    {
     "data": {
      "image/png": "[encoded data removed]",
      "text/plain": [
       "<Figure size 432x288 with 1 Axes>"
      ]
     },
     "metadata": {
      "needs_background": "light"
     },
     "output_type": "display_data"
    }
   ],
   "source": [
    "plt.plot(running_loss_history, label='training loss')\n",
    "plt.plot(val_running_loss_history, label='validation loss')"
   ]
  },
  {
   "cell_type": "code",
   "execution_count": 49,
   "metadata": {
    "ExecuteTime": {
     "end_time": "2020-05-08T09:26:07.245061Z",
     "start_time": "2020-05-08T09:26:07.036783Z"
    }
   },
   "outputs": [
    {
     "data": {
      "text/plain": [
       "[<matplotlib.lines.Line2D at 0x1360532d0>]"
      ]
     },
     "execution_count": 49,
     "metadata": {},
     "output_type": "execute_result"
    },
    {
     "data": {
      "image/png": "[encoded data removed]",
      "text/plain": [
       "<Figure size 432x288 with 1 Axes>"
      ]
     },
     "metadata": {
      "needs_background": "light"
     },
     "output_type": "display_data"
    }
   ],
   "source": [
    "plt.plot(running_correct_history, label='training accuracy')\n",
    "plt.plot(val_running_correct_history, label='validation accuracy')"
   ]
  },
  {
   "cell_type": "code",
   "execution_count": null,
   "metadata": {},
   "outputs": [],
   "source": []
  }
 ],
 "metadata": {
  "kernelspec": {
   "display_name": "Python 3.7.4 64-bit",
   "language": "python",
   "name": "python37464bitd354516f517147279a113529c8fe5e5f"
  },
  "language_info": {
   "codemirror_mode": {
    "name": "ipython",
    "version": 3
   },
   "file_extension": ".py",
   "mimetype": "text/x-python",
   "name": "python",
   "nbconvert_exporter": "python",
   "pygments_lexer": "ipython3",
   "version": "3.7.7"
  },
  "toc": {
   "base_numbering": 1,
   "nav_menu": {},
   "number_sections": true,
   "sideBar": true,
   "skip_h1_title": false,
   "title_cell": "Table of Contents",
   "title_sidebar": "Contents",
   "toc_cell": false,
   "toc_position": {},
   "toc_section_display": true,
   "toc_window_display": false
  },
  "varInspector": {
   "cols": {
    "lenName": 16,
    "lenType": 16,
    "lenVar": 40
   },
   "kernels_config": {
    "python": {
     "delete_cmd_postfix": "",
     "delete_cmd_prefix": "del ",
     "library": "var_list.py",
     "varRefreshCmd": "print(var_dic_list())"
    },
    "r": {
     "delete_cmd_postfix": ") ",
     "delete_cmd_prefix": "rm(",
     "library": "var_list.r",
     "varRefreshCmd": "cat(var_dic_list()) "
    }
   },
   "types_to_exclude": [
    "module",
    "function",
    "builtin_function_or_method",
    "instance",
    "_Feature"
   ],
   "window_display": false
  }
 },
 "nbformat": 4,
 "nbformat_minor": 2
}
