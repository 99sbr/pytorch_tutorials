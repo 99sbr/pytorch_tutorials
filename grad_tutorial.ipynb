{
 "cells": [
  {
   "cell_type": "code",
   "execution_count": 2,
   "metadata": {},
   "outputs": [],
   "source": [
    "import torch"
   ]
  },
  {
   "cell_type": "code",
   "execution_count": 3,
   "metadata": {},
   "outputs": [],
   "source": [
    "dtype = torch.float\n",
    "device = torch.device('cpu')"
   ]
  },
  {
   "cell_type": "code",
   "execution_count": 45,
   "metadata": {},
   "outputs": [],
   "source": [
    "# N is batch size; D_in is input dimension;\n",
    "# H is hidden dimension; D_out is output dimension\n",
    "N, D_in , H, D_out = 64, 1000, 100, 10 "
   ]
  },
  {
   "cell_type": "code",
   "execution_count": 46,
   "metadata": {},
   "outputs": [],
   "source": [
    "# create random input and output data\n",
    "x = torch.randn(N, D_in, device=device, dtype=dtype)\n",
    "y = torch.randn(N, D_out, device=device, dtype=dtype)"
   ]
  },
  {
   "cell_type": "code",
   "execution_count": 47,
   "metadata": {},
   "outputs": [],
   "source": [
    "# random initialize weights\n",
    "w1 = torch.randn(D_in, H, device=device, dtype=dtype)\n",
    "w2 = torch.randn(H, D_out, device=device, dtype=dtype)"
   ]
  },
  {
   "cell_type": "code",
   "execution_count": 49,
   "metadata": {},
   "outputs": [
    {
     "name": "stdout",
     "output_type": "stream",
     "text": [
      "99 3.238618830891937e-07\n",
      "199 3.1904804131954734e-07\n",
      "299 2.9447903671098175e-07\n",
      "399 2.851443241524976e-07\n",
      "499 2.9813008950441144e-07\n"
     ]
    }
   ],
   "source": [
    "lr=1e-6\n",
    "for t in range(500):\n",
    "    # forward pass : compute predcited y\n",
    "    h = x.mm(w1)\n",
    "    h_relu = h.clamp(min=0)\n",
    "    y_pred = h_relu.mm(w2)\n",
    "    \n",
    "    # compute and print loss\n",
    "    loss = (y_pred - y).pow(2).sum().item()\n",
    "    if t%100==99:\n",
    "        print(t,loss)\n",
    "        \n",
    "    # backprop to compute gradients of w1 and w2 with respect to loss\n",
    "    grad_y_pred = 2.0*(y_pred-y)\n",
    "    grad_w2 = h_relu.t().mm(grad_y_pred)\n",
    "    grad_h_relu = grad_y_pred.mm(w2.t())\n",
    "    grad_h = grad_h_relu.clone()\n",
    "    grad_h[h<0]=0\n",
    "    grad_w1=x.t().mm(grad_h)\n",
    "    \n",
    "    # update weights using gradient descent\n",
    "    w1 -= lr*grad_w1\n",
    "    w2 -= lr*grad_w2"
   ]
  },
  {
   "cell_type": "code",
   "execution_count": 63,
   "metadata": {},
   "outputs": [
    {
     "name": "stdout",
     "output_type": "stream",
     "text": [
      "99 tensor(1297.7057, grad_fn=<SumBackward0>)\n",
      "199 tensor(56.2007, grad_fn=<SumBackward0>)\n",
      "299 tensor(5.0414, grad_fn=<SumBackward0>)\n",
      "399 tensor(0.5315, grad_fn=<SumBackward0>)\n",
      "499 tensor(0.0586, grad_fn=<SumBackward0>)\n"
     ]
    }
   ],
   "source": [
    "lr=1e-6\n",
    "# create random input and output data\n",
    "x = torch.randn(N, D_in, device=device, dtype=dtype)\n",
    "y = torch.randn(N, D_out, device=device, dtype=dtype)\n",
    "\n",
    "# random initialize weights\n",
    "w1 = torch.randn(D_in, H, device=device, dtype=dtype,requires_grad=True)\n",
    "w2 = torch.randn(H, D_out, device=device, dtype=dtype,requires_grad=True)\n",
    "torch.optim.Adam\n",
    "for t in range(500):\n",
    "    # forward pass : compute predcited y\n",
    "    y_pred = x.mm(w1).clamp(min=0).mm(w2)\n",
    "    \n",
    "    # compute and print loss\n",
    "    loss = (y_pred - y).pow(2).sum()\n",
    "    if t%100==99:\n",
    "        print(t,loss)\n",
    "        \n",
    "    # backprop to compute gradients of w1 and w2 with respect to loss\n",
    "    loss.backward()\n",
    "    \n",
    "    # update weights using gradient descent\n",
    "    with torch.no_grad():\n",
    "        w1 -= lr*w1.grad\n",
    "        w2 -= lr*w2.grad\n",
    "        \n",
    "        w1.grad.zero_()\n",
    "        w2.grad.zero_()"
   ]
  },
  {
   "cell_type": "code",
   "execution_count": null,
   "metadata": {},
   "outputs": [],
   "source": []
  }
 ],
 "metadata": {
  "kernelspec": {
   "display_name": "Python 3",
   "language": "python",
   "name": "python3"
  },
  "language_info": {
   "codemirror_mode": {
    "name": "ipython",
    "version": 3
   },
   "file_extension": ".py",
   "mimetype": "text/x-python",
   "name": "python",
   "nbconvert_exporter": "python",
   "pygments_lexer": "ipython3",
   "version": "3.7.4"
  }
 },
 "nbformat": 4,
 "nbformat_minor": 2
}
